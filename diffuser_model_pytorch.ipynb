{
  "nbformat": 4,
  "nbformat_minor": 0,
  "metadata": {
    "colab": {
      "provenance": [],
      "gpuType": "T4",
      "authorship_tag": "ABX9TyMs+MDgai5kA5pXTUmkyvwE",
      "include_colab_link": true
    },
    "kernelspec": {
      "name": "python3",
      "display_name": "Python 3"
    },
    "language_info": {
      "name": "python"
    },
    "accelerator": "GPU",
    "widgets": {
      "application/vnd.jupyter.widget-state+json": {
        "9275904a1df14dc6a67f137631eaa41c": {
          "model_module": "@jupyter-widgets/controls",
          "model_name": "HBoxModel",
          "model_module_version": "1.5.0",
          "state": {
            "_dom_classes": [],
            "_model_module": "@jupyter-widgets/controls",
            "_model_module_version": "1.5.0",
            "_model_name": "HBoxModel",
            "_view_count": null,
            "_view_module": "@jupyter-widgets/controls",
            "_view_module_version": "1.5.0",
            "_view_name": "HBoxView",
            "box_style": "",
            "children": [
              "IPY_MODEL_0c9facaf7f4a4aa8af535716b451e72f",
              "IPY_MODEL_a09bb06a38964d47a5c0611bff49f08a",
              "IPY_MODEL_9236022686bc4580a463d93d1c286a45"
            ],
            "layout": "IPY_MODEL_64d97019a51146aebf7af7fdff4846db"
          }
        },
        "0c9facaf7f4a4aa8af535716b451e72f": {
          "model_module": "@jupyter-widgets/controls",
          "model_name": "HTMLModel",
          "model_module_version": "1.5.0",
          "state": {
            "_dom_classes": [],
            "_model_module": "@jupyter-widgets/controls",
            "_model_module_version": "1.5.0",
            "_model_name": "HTMLModel",
            "_view_count": null,
            "_view_module": "@jupyter-widgets/controls",
            "_view_module_version": "1.5.0",
            "_view_name": "HTMLView",
            "description": "",
            "description_tooltip": null,
            "layout": "IPY_MODEL_804f770334634d62bcf0baaecc0d36b9",
            "placeholder": "​",
            "style": "IPY_MODEL_4d6a2aefe3f54fcab1a39461c7ed9d02",
            "value": "100%"
          }
        },
        "a09bb06a38964d47a5c0611bff49f08a": {
          "model_module": "@jupyter-widgets/controls",
          "model_name": "FloatProgressModel",
          "model_module_version": "1.5.0",
          "state": {
            "_dom_classes": [],
            "_model_module": "@jupyter-widgets/controls",
            "_model_module_version": "1.5.0",
            "_model_name": "FloatProgressModel",
            "_view_count": null,
            "_view_module": "@jupyter-widgets/controls",
            "_view_module_version": "1.5.0",
            "_view_name": "ProgressView",
            "bar_style": "success",
            "description": "",
            "description_tooltip": null,
            "layout": "IPY_MODEL_9f3b0ba0b7e64db29f5665ad91aed2d0",
            "max": 250,
            "min": 0,
            "orientation": "horizontal",
            "style": "IPY_MODEL_0dcbd14f0b3145afb936291539c55e91",
            "value": 250
          }
        },
        "9236022686bc4580a463d93d1c286a45": {
          "model_module": "@jupyter-widgets/controls",
          "model_name": "HTMLModel",
          "model_module_version": "1.5.0",
          "state": {
            "_dom_classes": [],
            "_model_module": "@jupyter-widgets/controls",
            "_model_module_version": "1.5.0",
            "_model_name": "HTMLModel",
            "_view_count": null,
            "_view_module": "@jupyter-widgets/controls",
            "_view_module_version": "1.5.0",
            "_view_name": "HTMLView",
            "description": "",
            "description_tooltip": null,
            "layout": "IPY_MODEL_51f8a27dcb15449c84b14600cb95bded",
            "placeholder": "​",
            "style": "IPY_MODEL_a6559bf1ef224fb690fc83b38fdffb45",
            "value": " 250/250 [00:04&lt;00:00, 63.88it/s]"
          }
        },
        "64d97019a51146aebf7af7fdff4846db": {
          "model_module": "@jupyter-widgets/base",
          "model_name": "LayoutModel",
          "model_module_version": "1.2.0",
          "state": {
            "_model_module": "@jupyter-widgets/base",
            "_model_module_version": "1.2.0",
            "_model_name": "LayoutModel",
            "_view_count": null,
            "_view_module": "@jupyter-widgets/base",
            "_view_module_version": "1.2.0",
            "_view_name": "LayoutView",
            "align_content": null,
            "align_items": null,
            "align_self": null,
            "border": null,
            "bottom": null,
            "display": null,
            "flex": null,
            "flex_flow": null,
            "grid_area": null,
            "grid_auto_columns": null,
            "grid_auto_flow": null,
            "grid_auto_rows": null,
            "grid_column": null,
            "grid_gap": null,
            "grid_row": null,
            "grid_template_areas": null,
            "grid_template_columns": null,
            "grid_template_rows": null,
            "height": null,
            "justify_content": null,
            "justify_items": null,
            "left": null,
            "margin": null,
            "max_height": null,
            "max_width": null,
            "min_height": null,
            "min_width": null,
            "object_fit": null,
            "object_position": null,
            "order": null,
            "overflow": null,
            "overflow_x": null,
            "overflow_y": null,
            "padding": null,
            "right": null,
            "top": null,
            "visibility": null,
            "width": null
          }
        },
        "804f770334634d62bcf0baaecc0d36b9": {
          "model_module": "@jupyter-widgets/base",
          "model_name": "LayoutModel",
          "model_module_version": "1.2.0",
          "state": {
            "_model_module": "@jupyter-widgets/base",
            "_model_module_version": "1.2.0",
            "_model_name": "LayoutModel",
            "_view_count": null,
            "_view_module": "@jupyter-widgets/base",
            "_view_module_version": "1.2.0",
            "_view_name": "LayoutView",
            "align_content": null,
            "align_items": null,
            "align_self": null,
            "border": null,
            "bottom": null,
            "display": null,
            "flex": null,
            "flex_flow": null,
            "grid_area": null,
            "grid_auto_columns": null,
            "grid_auto_flow": null,
            "grid_auto_rows": null,
            "grid_column": null,
            "grid_gap": null,
            "grid_row": null,
            "grid_template_areas": null,
            "grid_template_columns": null,
            "grid_template_rows": null,
            "height": null,
            "justify_content": null,
            "justify_items": null,
            "left": null,
            "margin": null,
            "max_height": null,
            "max_width": null,
            "min_height": null,
            "min_width": null,
            "object_fit": null,
            "object_position": null,
            "order": null,
            "overflow": null,
            "overflow_x": null,
            "overflow_y": null,
            "padding": null,
            "right": null,
            "top": null,
            "visibility": null,
            "width": null
          }
        },
        "4d6a2aefe3f54fcab1a39461c7ed9d02": {
          "model_module": "@jupyter-widgets/controls",
          "model_name": "DescriptionStyleModel",
          "model_module_version": "1.5.0",
          "state": {
            "_model_module": "@jupyter-widgets/controls",
            "_model_module_version": "1.5.0",
            "_model_name": "DescriptionStyleModel",
            "_view_count": null,
            "_view_module": "@jupyter-widgets/base",
            "_view_module_version": "1.2.0",
            "_view_name": "StyleView",
            "description_width": ""
          }
        },
        "9f3b0ba0b7e64db29f5665ad91aed2d0": {
          "model_module": "@jupyter-widgets/base",
          "model_name": "LayoutModel",
          "model_module_version": "1.2.0",
          "state": {
            "_model_module": "@jupyter-widgets/base",
            "_model_module_version": "1.2.0",
            "_model_name": "LayoutModel",
            "_view_count": null,
            "_view_module": "@jupyter-widgets/base",
            "_view_module_version": "1.2.0",
            "_view_name": "LayoutView",
            "align_content": null,
            "align_items": null,
            "align_self": null,
            "border": null,
            "bottom": null,
            "display": null,
            "flex": null,
            "flex_flow": null,
            "grid_area": null,
            "grid_auto_columns": null,
            "grid_auto_flow": null,
            "grid_auto_rows": null,
            "grid_column": null,
            "grid_gap": null,
            "grid_row": null,
            "grid_template_areas": null,
            "grid_template_columns": null,
            "grid_template_rows": null,
            "height": null,
            "justify_content": null,
            "justify_items": null,
            "left": null,
            "margin": null,
            "max_height": null,
            "max_width": null,
            "min_height": null,
            "min_width": null,
            "object_fit": null,
            "object_position": null,
            "order": null,
            "overflow": null,
            "overflow_x": null,
            "overflow_y": null,
            "padding": null,
            "right": null,
            "top": null,
            "visibility": null,
            "width": null
          }
        },
        "0dcbd14f0b3145afb936291539c55e91": {
          "model_module": "@jupyter-widgets/controls",
          "model_name": "ProgressStyleModel",
          "model_module_version": "1.5.0",
          "state": {
            "_model_module": "@jupyter-widgets/controls",
            "_model_module_version": "1.5.0",
            "_model_name": "ProgressStyleModel",
            "_view_count": null,
            "_view_module": "@jupyter-widgets/base",
            "_view_module_version": "1.2.0",
            "_view_name": "StyleView",
            "bar_color": null,
            "description_width": ""
          }
        },
        "51f8a27dcb15449c84b14600cb95bded": {
          "model_module": "@jupyter-widgets/base",
          "model_name": "LayoutModel",
          "model_module_version": "1.2.0",
          "state": {
            "_model_module": "@jupyter-widgets/base",
            "_model_module_version": "1.2.0",
            "_model_name": "LayoutModel",
            "_view_count": null,
            "_view_module": "@jupyter-widgets/base",
            "_view_module_version": "1.2.0",
            "_view_name": "LayoutView",
            "align_content": null,
            "align_items": null,
            "align_self": null,
            "border": null,
            "bottom": null,
            "display": null,
            "flex": null,
            "flex_flow": null,
            "grid_area": null,
            "grid_auto_columns": null,
            "grid_auto_flow": null,
            "grid_auto_rows": null,
            "grid_column": null,
            "grid_gap": null,
            "grid_row": null,
            "grid_template_areas": null,
            "grid_template_columns": null,
            "grid_template_rows": null,
            "height": null,
            "justify_content": null,
            "justify_items": null,
            "left": null,
            "margin": null,
            "max_height": null,
            "max_width": null,
            "min_height": null,
            "min_width": null,
            "object_fit": null,
            "object_position": null,
            "order": null,
            "overflow": null,
            "overflow_x": null,
            "overflow_y": null,
            "padding": null,
            "right": null,
            "top": null,
            "visibility": null,
            "width": null
          }
        },
        "a6559bf1ef224fb690fc83b38fdffb45": {
          "model_module": "@jupyter-widgets/controls",
          "model_name": "DescriptionStyleModel",
          "model_module_version": "1.5.0",
          "state": {
            "_model_module": "@jupyter-widgets/controls",
            "_model_module_version": "1.5.0",
            "_model_name": "DescriptionStyleModel",
            "_view_count": null,
            "_view_module": "@jupyter-widgets/base",
            "_view_module_version": "1.2.0",
            "_view_name": "StyleView",
            "description_width": ""
          }
        }
      }
    }
  },
  "cells": [
    {
      "cell_type": "markdown",
      "metadata": {
        "id": "view-in-github",
        "colab_type": "text"
      },
      "source": [
        "<a href=\"https://colab.research.google.com/github/JavierPachas/pytorch/blob/main/diffuser_model_pytorch.ipynb\" target=\"_parent\"><img src=\"https://colab.research.google.com/assets/colab-badge.svg\" alt=\"Open In Colab\"/></a>"
      ]
    },
    {
      "cell_type": "markdown",
      "source": [
        "A diffuser model with PyTorch"
      ],
      "metadata": {
        "id": "WifqD-At0Osz"
      }
    },
    {
      "cell_type": "code",
      "source": [
        "!pip install kaleido\n",
        "!pip uvicorn\n",
        "!pip install python-multipart\n",
        "!pip install fastapi"
      ],
      "metadata": {
        "colab": {
          "base_uri": "https://localhost:8080/"
        },
        "id": "YCY6BP6HIXZC",
        "outputId": "4b76ccbd-3b80-4db5-9d0b-9f45531e817a"
      },
      "execution_count": null,
      "outputs": [
        {
          "output_type": "stream",
          "name": "stdout",
          "text": [
            "Collecting kaleido\n",
            "  Downloading kaleido-0.2.1-py2.py3-none-manylinux1_x86_64.whl (79.9 MB)\n",
            "\u001b[2K     \u001b[90m━━━━━━━━━━━━━━━━━━━━━━━━━━━━━━━━━━━━━━━━\u001b[0m \u001b[32m79.9/79.9 MB\u001b[0m \u001b[31m11.2 MB/s\u001b[0m eta \u001b[36m0:00:00\u001b[0m\n",
            "\u001b[?25hInstalling collected packages: kaleido\n",
            "\u001b[31mERROR: pip's dependency resolver does not currently take into account all the packages that are installed. This behaviour is the source of the following dependency conflicts.\n",
            "lida 0.0.10 requires fastapi, which is not installed.\n",
            "lida 0.0.10 requires python-multipart, which is not installed.\n",
            "lida 0.0.10 requires uvicorn, which is not installed.\u001b[0m\u001b[31m\n",
            "\u001b[0mSuccessfully installed kaleido-0.2.1\n",
            "ERROR: unknown command \"uvicorn\"\n",
            "Collecting python-multipart\n",
            "  Downloading python_multipart-0.0.9-py3-none-any.whl (22 kB)\n",
            "Installing collected packages: python-multipart\n",
            "\u001b[31mERROR: pip's dependency resolver does not currently take into account all the packages that are installed. This behaviour is the source of the following dependency conflicts.\n",
            "lida 0.0.10 requires fastapi, which is not installed.\n",
            "lida 0.0.10 requires uvicorn, which is not installed.\u001b[0m\u001b[31m\n",
            "\u001b[0mSuccessfully installed python-multipart-0.0.9\n",
            "Collecting fastapi\n",
            "  Downloading fastapi-0.109.2-py3-none-any.whl (92 kB)\n",
            "\u001b[2K     \u001b[90m━━━━━━━━━━━━━━━━━━━━━━━━━━━━━━━━━━━━━━━━\u001b[0m \u001b[32m92.1/92.1 kB\u001b[0m \u001b[31m3.6 MB/s\u001b[0m eta \u001b[36m0:00:00\u001b[0m\n",
            "\u001b[?25hRequirement already satisfied: pydantic!=1.8,!=1.8.1,!=2.0.0,!=2.0.1,!=2.1.0,<3.0.0,>=1.7.4 in /usr/local/lib/python3.10/dist-packages (from fastapi) (2.6.1)\n",
            "Collecting starlette<0.37.0,>=0.36.3 (from fastapi)\n",
            "  Downloading starlette-0.36.3-py3-none-any.whl (71 kB)\n",
            "\u001b[2K     \u001b[90m━━━━━━━━━━━━━━━━━━━━━━━━━━━━━━━━━━━━━━━━\u001b[0m \u001b[32m71.5/71.5 kB\u001b[0m \u001b[31m9.1 MB/s\u001b[0m eta \u001b[36m0:00:00\u001b[0m\n",
            "\u001b[?25hRequirement already satisfied: typing-extensions>=4.8.0 in /usr/local/lib/python3.10/dist-packages (from fastapi) (4.9.0)\n",
            "Requirement already satisfied: annotated-types>=0.4.0 in /usr/local/lib/python3.10/dist-packages (from pydantic!=1.8,!=1.8.1,!=2.0.0,!=2.0.1,!=2.1.0,<3.0.0,>=1.7.4->fastapi) (0.6.0)\n",
            "Requirement already satisfied: pydantic-core==2.16.2 in /usr/local/lib/python3.10/dist-packages (from pydantic!=1.8,!=1.8.1,!=2.0.0,!=2.0.1,!=2.1.0,<3.0.0,>=1.7.4->fastapi) (2.16.2)\n",
            "Requirement already satisfied: anyio<5,>=3.4.0 in /usr/local/lib/python3.10/dist-packages (from starlette<0.37.0,>=0.36.3->fastapi) (3.7.1)\n",
            "Requirement already satisfied: idna>=2.8 in /usr/local/lib/python3.10/dist-packages (from anyio<5,>=3.4.0->starlette<0.37.0,>=0.36.3->fastapi) (3.6)\n",
            "Requirement already satisfied: sniffio>=1.1 in /usr/local/lib/python3.10/dist-packages (from anyio<5,>=3.4.0->starlette<0.37.0,>=0.36.3->fastapi) (1.3.0)\n",
            "Requirement already satisfied: exceptiongroup in /usr/local/lib/python3.10/dist-packages (from anyio<5,>=3.4.0->starlette<0.37.0,>=0.36.3->fastapi) (1.2.0)\n",
            "Installing collected packages: starlette, fastapi\n",
            "\u001b[31mERROR: pip's dependency resolver does not currently take into account all the packages that are installed. This behaviour is the source of the following dependency conflicts.\n",
            "lida 0.0.10 requires uvicorn, which is not installed.\u001b[0m\u001b[31m\n",
            "\u001b[0mSuccessfully installed fastapi-0.109.2 starlette-0.36.3\n"
          ]
        }
      ]
    },
    {
      "cell_type": "code",
      "source": [
        "!pip install torchmultimodal-nightly"
      ],
      "metadata": {
        "colab": {
          "base_uri": "https://localhost:8080/"
        },
        "id": "9It-9iKx0bqn",
        "outputId": "bc12c375-85aa-4b39-f57b-139cffcf2594"
      },
      "execution_count": null,
      "outputs": [
        {
          "output_type": "stream",
          "name": "stdout",
          "text": [
            "Collecting torchmultimodal-nightly\n",
            "  Downloading torchmultimodal_nightly-2024.2.11-py39-none-any.whl (256 kB)\n",
            "\u001b[2K     \u001b[90m━━━━━━━━━━━━━━━━━━━━━━━━━━━━━━━━━━━━━━━━\u001b[0m \u001b[32m256.4/256.4 kB\u001b[0m \u001b[31m6.4 MB/s\u001b[0m eta \u001b[36m0:00:00\u001b[0m\n",
            "\u001b[?25hCollecting DALL-E==0.1 (from torchmultimodal-nightly)\n",
            "  Downloading DALL_E-0.1-py3-none-any.whl (6.0 kB)\n",
            "Collecting iopath (from torchmultimodal-nightly)\n",
            "  Downloading iopath-0.1.10.tar.gz (42 kB)\n",
            "\u001b[2K     \u001b[90m━━━━━━━━━━━━━━━━━━━━━━━━━━━━━━━━━━━━━━━━\u001b[0m \u001b[32m42.2/42.2 kB\u001b[0m \u001b[31m5.9 MB/s\u001b[0m eta \u001b[36m0:00:00\u001b[0m\n",
            "\u001b[?25h  Preparing metadata (setup.py) ... \u001b[?25l\u001b[?25hdone\n",
            "Collecting attrs==23.1.0 (from torchmultimodal-nightly)\n",
            "  Downloading attrs-23.1.0-py3-none-any.whl (61 kB)\n",
            "\u001b[2K     \u001b[90m━━━━━━━━━━━━━━━━━━━━━━━━━━━━━━━━━━━━━━━━\u001b[0m \u001b[32m61.2/61.2 kB\u001b[0m \u001b[31m7.8 MB/s\u001b[0m eta \u001b[36m0:00:00\u001b[0m\n",
            "\u001b[?25hCollecting ftfy (from torchmultimodal-nightly)\n",
            "  Downloading ftfy-6.1.3-py3-none-any.whl (53 kB)\n",
            "\u001b[2K     \u001b[90m━━━━━━━━━━━━━━━━━━━━━━━━━━━━━━━━━━━━━━━━\u001b[0m \u001b[32m53.4/53.4 kB\u001b[0m \u001b[31m5.3 MB/s\u001b[0m eta \u001b[36m0:00:00\u001b[0m\n",
            "\u001b[?25hRequirement already satisfied: regex in /usr/local/lib/python3.10/dist-packages (from torchmultimodal-nightly) (2023.12.25)\n",
            "Requirement already satisfied: Pillow in /usr/local/lib/python3.10/dist-packages (from DALL-E==0.1->torchmultimodal-nightly) (9.4.0)\n",
            "Collecting blobfile (from DALL-E==0.1->torchmultimodal-nightly)\n",
            "  Downloading blobfile-2.1.1-py3-none-any.whl (73 kB)\n",
            "\u001b[2K     \u001b[90m━━━━━━━━━━━━━━━━━━━━━━━━━━━━━━━━━━━━━━━━\u001b[0m \u001b[32m73.7/73.7 kB\u001b[0m \u001b[31m9.4 MB/s\u001b[0m eta \u001b[36m0:00:00\u001b[0m\n",
            "\u001b[?25hCollecting mypy (from DALL-E==0.1->torchmultimodal-nightly)\n",
            "  Downloading mypy-1.8.0-cp310-cp310-manylinux_2_17_x86_64.manylinux2014_x86_64.whl (12.5 MB)\n",
            "\u001b[2K     \u001b[90m━━━━━━━━━━━━━━━━━━━━━━━━━━━━━━━━━━━━━━━━\u001b[0m \u001b[32m12.5/12.5 MB\u001b[0m \u001b[31m46.0 MB/s\u001b[0m eta \u001b[36m0:00:00\u001b[0m\n",
            "\u001b[?25hRequirement already satisfied: numpy in /usr/local/lib/python3.10/dist-packages (from DALL-E==0.1->torchmultimodal-nightly) (1.23.5)\n",
            "Requirement already satisfied: pytest in /usr/local/lib/python3.10/dist-packages (from DALL-E==0.1->torchmultimodal-nightly) (7.4.4)\n",
            "Requirement already satisfied: requests in /usr/local/lib/python3.10/dist-packages (from DALL-E==0.1->torchmultimodal-nightly) (2.31.0)\n",
            "Requirement already satisfied: torch in /usr/local/lib/python3.10/dist-packages (from DALL-E==0.1->torchmultimodal-nightly) (2.1.0+cu121)\n",
            "Requirement already satisfied: torchvision in /usr/local/lib/python3.10/dist-packages (from DALL-E==0.1->torchmultimodal-nightly) (0.16.0+cu121)\n",
            "Requirement already satisfied: wcwidth<0.3.0,>=0.2.12 in /usr/local/lib/python3.10/dist-packages (from ftfy->torchmultimodal-nightly) (0.2.13)\n",
            "Requirement already satisfied: tqdm in /usr/local/lib/python3.10/dist-packages (from iopath->torchmultimodal-nightly) (4.66.1)\n",
            "Requirement already satisfied: typing_extensions in /usr/local/lib/python3.10/dist-packages (from iopath->torchmultimodal-nightly) (4.9.0)\n",
            "Collecting portalocker (from iopath->torchmultimodal-nightly)\n",
            "  Downloading portalocker-2.8.2-py3-none-any.whl (17 kB)\n",
            "Collecting pycryptodomex~=3.8 (from blobfile->DALL-E==0.1->torchmultimodal-nightly)\n",
            "  Downloading pycryptodomex-3.20.0-cp35-abi3-manylinux_2_17_x86_64.manylinux2014_x86_64.whl (2.1 MB)\n",
            "\u001b[2K     \u001b[90m━━━━━━━━━━━━━━━━━━━━━━━━━━━━━━━━━━━━━━━━\u001b[0m \u001b[32m2.1/2.1 MB\u001b[0m \u001b[31m82.6 MB/s\u001b[0m eta \u001b[36m0:00:00\u001b[0m\n",
            "\u001b[?25hRequirement already satisfied: urllib3<3,>=1.25.3 in /usr/local/lib/python3.10/dist-packages (from blobfile->DALL-E==0.1->torchmultimodal-nightly) (2.0.7)\n",
            "Requirement already satisfied: lxml~=4.9 in /usr/local/lib/python3.10/dist-packages (from blobfile->DALL-E==0.1->torchmultimodal-nightly) (4.9.4)\n",
            "Requirement already satisfied: filelock~=3.0 in /usr/local/lib/python3.10/dist-packages (from blobfile->DALL-E==0.1->torchmultimodal-nightly) (3.13.1)\n",
            "Collecting mypy-extensions>=1.0.0 (from mypy->DALL-E==0.1->torchmultimodal-nightly)\n",
            "  Downloading mypy_extensions-1.0.0-py3-none-any.whl (4.7 kB)\n",
            "Requirement already satisfied: tomli>=1.1.0 in /usr/local/lib/python3.10/dist-packages (from mypy->DALL-E==0.1->torchmultimodal-nightly) (2.0.1)\n",
            "Requirement already satisfied: iniconfig in /usr/local/lib/python3.10/dist-packages (from pytest->DALL-E==0.1->torchmultimodal-nightly) (2.0.0)\n",
            "Requirement already satisfied: packaging in /usr/local/lib/python3.10/dist-packages (from pytest->DALL-E==0.1->torchmultimodal-nightly) (23.2)\n",
            "Requirement already satisfied: pluggy<2.0,>=0.12 in /usr/local/lib/python3.10/dist-packages (from pytest->DALL-E==0.1->torchmultimodal-nightly) (1.4.0)\n",
            "Requirement already satisfied: exceptiongroup>=1.0.0rc8 in /usr/local/lib/python3.10/dist-packages (from pytest->DALL-E==0.1->torchmultimodal-nightly) (1.2.0)\n",
            "Requirement already satisfied: charset-normalizer<4,>=2 in /usr/local/lib/python3.10/dist-packages (from requests->DALL-E==0.1->torchmultimodal-nightly) (3.3.2)\n",
            "Requirement already satisfied: idna<4,>=2.5 in /usr/local/lib/python3.10/dist-packages (from requests->DALL-E==0.1->torchmultimodal-nightly) (3.6)\n",
            "Requirement already satisfied: certifi>=2017.4.17 in /usr/local/lib/python3.10/dist-packages (from requests->DALL-E==0.1->torchmultimodal-nightly) (2024.2.2)\n",
            "Requirement already satisfied: sympy in /usr/local/lib/python3.10/dist-packages (from torch->DALL-E==0.1->torchmultimodal-nightly) (1.12)\n",
            "Requirement already satisfied: networkx in /usr/local/lib/python3.10/dist-packages (from torch->DALL-E==0.1->torchmultimodal-nightly) (3.2.1)\n",
            "Requirement already satisfied: jinja2 in /usr/local/lib/python3.10/dist-packages (from torch->DALL-E==0.1->torchmultimodal-nightly) (3.1.3)\n",
            "Requirement already satisfied: fsspec in /usr/local/lib/python3.10/dist-packages (from torch->DALL-E==0.1->torchmultimodal-nightly) (2023.6.0)\n",
            "Requirement already satisfied: triton==2.1.0 in /usr/local/lib/python3.10/dist-packages (from torch->DALL-E==0.1->torchmultimodal-nightly) (2.1.0)\n",
            "Requirement already satisfied: MarkupSafe>=2.0 in /usr/local/lib/python3.10/dist-packages (from jinja2->torch->DALL-E==0.1->torchmultimodal-nightly) (2.1.5)\n",
            "Requirement already satisfied: mpmath>=0.19 in /usr/local/lib/python3.10/dist-packages (from sympy->torch->DALL-E==0.1->torchmultimodal-nightly) (1.3.0)\n",
            "Building wheels for collected packages: iopath\n",
            "  Building wheel for iopath (setup.py) ... \u001b[?25l\u001b[?25hdone\n",
            "  Created wheel for iopath: filename=iopath-0.1.10-py3-none-any.whl size=31532 sha256=66dfe287f8cd84c8157d3d3350e4a02cfd8ecc28529763e882df6d6618cdb249\n",
            "  Stored in directory: /root/.cache/pip/wheels/9a/a3/b6/ac0fcd1b4ed5cfeb3db92e6a0e476cfd48ed0df92b91080c1d\n",
            "Successfully built iopath\n",
            "Installing collected packages: pycryptodomex, portalocker, mypy-extensions, ftfy, attrs, mypy, iopath, blobfile, DALL-E, torchmultimodal-nightly\n",
            "  Attempting uninstall: attrs\n",
            "    Found existing installation: attrs 23.2.0\n",
            "    Uninstalling attrs-23.2.0:\n",
            "      Successfully uninstalled attrs-23.2.0\n",
            "\u001b[31mERROR: pip's dependency resolver does not currently take into account all the packages that are installed. This behaviour is the source of the following dependency conflicts.\n",
            "lida 0.0.10 requires uvicorn, which is not installed.\u001b[0m\u001b[31m\n",
            "\u001b[0mSuccessfully installed DALL-E-0.1 attrs-23.1.0 blobfile-2.1.1 ftfy-6.1.3 iopath-0.1.10 mypy-1.8.0 mypy-extensions-1.0.0 portalocker-2.8.2 pycryptodomex-3.20.0 torchmultimodal-nightly-2024.2.11\n"
          ]
        }
      ]
    },
    {
      "cell_type": "code",
      "source": [
        "import torch\n",
        "import torchvision\n",
        "import torchvision.transforms.functional as F"
      ],
      "metadata": {
        "id": "sfZ7iBf8H6U6"
      },
      "execution_count": null,
      "outputs": []
    },
    {
      "cell_type": "code",
      "source": [
        "from torch import nn\n",
        "from tqdm import tqdm\n",
        "from torchmultimodal.diffusion_labs.modules.adapters.cfguidance import CFGuidance\n",
        "from torchmultimodal.diffusion_labs.modules.losses.diffusion_hybrid_loss import DiffusionHybridLoss\n",
        "from torchmultimodal.diffusion_labs.samplers.ddpm import DDPModule\n",
        "from torchmultimodal.diffusion_labs.predictors.noise_predictor import NoisePredictor\n",
        "from torchmultimodal.diffusion_labs.schedules.discrete_gaussian_schedule import linear_beta_schedule, DiscreteGaussianSchedule\n",
        "from torchmultimodal.diffusion_labs.transforms.diffusion_transform import RandomDiffusionSteps\n",
        "from torchmultimodal.diffusion_labs.utils.common import DiffusionOutput"
      ],
      "metadata": {
        "id": "xBuqkNz7II4B"
      },
      "execution_count": null,
      "outputs": []
    },
    {
      "cell_type": "markdown",
      "source": [
        "# Schedule"
      ],
      "metadata": {
        "id": "gkHgleQYKNs8"
      }
    },
    {
      "cell_type": "code",
      "source": [
        "#Define diffusion schedule\n",
        "schedule = DiscreteGaussianSchedule(linear_beta_schedule(1000))"
      ],
      "metadata": {
        "id": "4YuswStcKLZF"
      },
      "execution_count": null,
      "outputs": []
    },
    {
      "cell_type": "markdown",
      "source": [
        "#Predictor"
      ],
      "metadata": {
        "id": "7_0WNpJSKjCU"
      }
    },
    {
      "cell_type": "code",
      "source": [
        "#Define prediction target\n",
        "\n",
        "predictor = NoisePredictor(schedule, lambda x: torch.clamp(x, -1, 1))"
      ],
      "metadata": {
        "id": "Sheq7w_3Ktm3"
      },
      "execution_count": null,
      "outputs": []
    },
    {
      "cell_type": "markdown",
      "source": [
        "#U-Net"
      ],
      "metadata": {
        "id": "rHAhKLPiMnLB"
      }
    },
    {
      "cell_type": "code",
      "source": [
        "#for a larger model using GPU\n",
        "#from torchmultimodal.diffusion_labs.models.adm_unet.adm import adm_unet\n",
        "\n",
        "#unet = adm_unet(\n",
        "#    time_embed_dim = 32,\n",
        "#    embed_dim = 32,\n",
        "#    embed_name = 'context',\n",
        "#    predict_variance_value = True,\n",
        "#    image_channels = 1\n",
        "#)"
      ],
      "metadata": {
        "id": "4S93BShwMrq8"
      },
      "execution_count": null,
      "outputs": []
    },
    {
      "cell_type": "code",
      "source": [
        "class DownBlock(nn.Module):\n",
        "  def __init__(self, in_channels, out_channels, cond_channels):\n",
        "    super().__init__()\n",
        "    self.block = nn.Sequential(\n",
        "        nn.Conv2d(in_channels + cond_channels, out_channels, kernel_size =3, padding = 1),\n",
        "        nn.ReLU(),\n",
        "        nn.Conv2d(out_channels, out_channels, kernel_size =3, padding = 1),\n",
        "        nn.ReLU(),\n",
        "    )\n",
        "    self.pooling = nn.AvgPool2d(kernel_size=2, stride = 2)\n",
        "\n",
        "  def forward(self, x, c):\n",
        "    _, _, w, h = x.size()\n",
        "    c = c.expand(-1, -1, w, h)\n",
        "    x = self.block(torch.cat([x, c],1))\n",
        "    x_small = self.pooling(x)\n",
        "    return x, x_small\n",
        "\n",
        "class UpBlock(nn.Module):\n",
        "  def __init__(self, inp, out):\n",
        "    super().__init__()\n",
        "    self.block = nn.Sequential(\n",
        "        nn.Conv2d(2*inp, out, kernel_size =3, padding = 1),\n",
        "        nn.ReLU(),\n",
        "        nn.Conv2d(out, out, kernel_size =3, padding = 1),\n",
        "        nn.ReLU(),\n",
        "    )\n",
        "    self.upsample = nn.Upsample(scale_factor= 2)\n",
        "\n",
        "  def forward(self, x, x_small):\n",
        "    x_big = self.upsample(x_small)\n",
        "    x = torch.cat((x_big, x), dim = 1)\n",
        "    x = self.block(x)\n",
        "    return x\n",
        "\n",
        "class UNet(nn.Module):\n",
        "  def __init__(self, time_size = 32, digit_size = 32, steps = 1000):\n",
        "    super().__init__()\n",
        "    cond_size = time_size + digit_size\n",
        "    self.conv = nn.Conv2d(1, 128, kernel_size=3, padding = 1)\n",
        "    self.down = nn.ModuleList([DownBlock(128, 256, cond_size), DownBlock(256, 512, cond_size)])\n",
        "    self.bottleneck =DownBlock(512, 512, cond_size)\n",
        "    self.up = nn.ModuleList([UpBlock(512, 256), UpBlock(256, 128)])\n",
        "\n",
        "    self.time_projection = nn.Embedding(steps, time_size)\n",
        "    self.prediction = nn.Conv2d(128, 1, kernel_size = 3, padding = 1)\n",
        "    self.variance = nn.Conv2d(128, 1, kernel_size = 3, padding = 1)\n",
        "\n",
        "  def forward(self, x, t, conditional_inputs):\n",
        "    b, c, h, w = x.shape\n",
        "    timestep = self.time_projection(t).view(b, -1, 1, 1)\n",
        "    condition = conditional_inputs[\"context\"].view(b, -1, 1, 1)\n",
        "    condition = torch.cat([timestep, condition], dim =1)\n",
        "\n",
        "    x = self.conv(x)\n",
        "    outs = []\n",
        "    for block in self.down:\n",
        "      out, x = block(x, condition)\n",
        "      outs.append(out)\n",
        "    x, _ = self.bottleneck(x, condition)\n",
        "    for block in self.up:\n",
        "      x = block(outs.pop(), x)\n",
        "\n",
        "    v = self.variance(x)\n",
        "    p = self.prediction(x)\n",
        "    return DiffusionOutput(p, v)\n"
      ],
      "metadata": {
        "id": "Udd7FdrWNISa"
      },
      "execution_count": null,
      "outputs": []
    },
    {
      "cell_type": "markdown",
      "source": [
        "#Diffusion Model"
      ],
      "metadata": {
        "id": "DbHSKVRsXT_0"
      }
    },
    {
      "cell_type": "code",
      "source": [
        "unet = UNet(time_size = 32, digit_size = 32)\n",
        "unet = CFGuidance(unet, {'Context':32}, guidance = 2.0)"
      ],
      "metadata": {
        "id": "7rBpccaaXTSy"
      },
      "execution_count": null,
      "outputs": []
    },
    {
      "cell_type": "code",
      "source": [
        "#define evaluation\n",
        "eval_steps = torch.linspace(0,999, 250, dtype = torch.long)\n",
        "model = DDPModule(unet, schedule, predictor, eval_steps)"
      ],
      "metadata": {
        "id": "oFvJOyVfXyDZ"
      },
      "execution_count": null,
      "outputs": []
    },
    {
      "cell_type": "code",
      "source": [
        "#Conditional embedding\n",
        "encoder =nn.Embedding(10, 32)"
      ],
      "metadata": {
        "id": "GiV3mvBxbo-q"
      },
      "execution_count": null,
      "outputs": []
    },
    {
      "cell_type": "markdown",
      "source": [
        "#Data"
      ],
      "metadata": {
        "id": "56pHlPo8eYsZ"
      }
    },
    {
      "cell_type": "code",
      "source": [
        "from torchvision.transforms import Compose, Resize, ToTensor, Lambda"
      ],
      "metadata": {
        "id": "vuxWqsDseXR2"
      },
      "execution_count": null,
      "outputs": []
    },
    {
      "cell_type": "code",
      "source": [
        "#transform data and use RandomDiffusionSteps to sample random noise\n",
        "diffusion_transform = RandomDiffusionSteps(schedule, batched = False)\n",
        "\n",
        "transform = Compose([Resize(32),\n",
        "                      ToTensor(),\n",
        "                      Lambda(lambda x: 2*x -1),\n",
        "                      Lambda(lambda x: diffusion_transform({'x':x}))])"
      ],
      "metadata": {
        "id": "yEBE8J3den8q"
      },
      "execution_count": null,
      "outputs": []
    },
    {
      "cell_type": "code",
      "source": [
        "from torchvision.datasets import FashionMNIST\n",
        "from torch.utils.data import DataLoader\n",
        "\n",
        "train_dataset = FashionMNIST('fashion_mnist', train = True, download = True, transform = transform)\n",
        "train_dataloader = DataLoader(train_dataset, batch_size = 192, shuffle = True, num_workers = 2, pin_memory = True)"
      ],
      "metadata": {
        "id": "-1X7yWVPfwII"
      },
      "execution_count": null,
      "outputs": []
    },
    {
      "cell_type": "markdown",
      "source": [
        "#Train"
      ],
      "metadata": {
        "id": "Vr0evAk-gc50"
      }
    },
    {
      "cell_type": "code",
      "source": [
        "epochs = 10\n",
        "\n",
        "device = torch.device('cuda' if torch.cuda.is_available else 'cpu') #'cuda:3'\n",
        "encoder.to(device)\n",
        "model.to(device)\n",
        "\n",
        "optimizer = torch.optim.AdamW(\n",
        "    [{'params': encoder.parameters()}, {'params': model.parameters()}], lr = 0.0001\n",
        ")\n",
        "h_loss = DiffusionHybridLoss(schedule)\n",
        "\n",
        "encoder.train()\n",
        "model.train()\n",
        "\n",
        "for e in range(epochs):\n",
        "  for sample in (pbar :=tqdm(train_dataloader)):\n",
        "    x, c = sample\n",
        "    x0, xt, noise, t, c = x['x'].to(device), x['xt'].to(device), x['noise'].to(device), x['t'].to(device), c.to(device)\n",
        "    optimizer.zero_grad()\n",
        "\n",
        "    #computing loss\n",
        "    embedding = encoder(c)\n",
        "    out = model(xt, t, {'context': embedding})\n",
        "    loss = h_loss(out.prediction, noise, out.mean, out.log_variance, x0, xt, t)\n",
        "\n",
        "    loss.backward()\n",
        "    optimizer.step()\n",
        "\n",
        "    pbar.set_description(f'{e+1} | Loss: {loss.item()}')\n"
      ],
      "metadata": {
        "colab": {
          "base_uri": "https://localhost:8080/"
        },
        "id": "FgFhwykigd_X",
        "outputId": "7db11987-3198-4cf6-82c4-bced35193947"
      },
      "execution_count": null,
      "outputs": [
        {
          "output_type": "stream",
          "name": "stderr",
          "text": [
            "1 | Loss: 0.057172879576683044: 100%|██████████| 313/313 [02:42<00:00,  1.92it/s]\n",
            "2 | Loss: 0.063269704580307: 100%|██████████| 313/313 [02:45<00:00,  1.89it/s]\n",
            "3 | Loss: 0.06706809997558594: 100%|██████████| 313/313 [02:51<00:00,  1.83it/s]\n",
            "4 | Loss: 0.03851539269089699: 100%|██████████| 313/313 [02:51<00:00,  1.83it/s]\n",
            "5 | Loss: 0.03582620620727539: 100%|██████████| 313/313 [02:45<00:00,  1.89it/s]\n",
            "6 | Loss: 0.048224471509456635: 100%|██████████| 313/313 [02:41<00:00,  1.93it/s]\n",
            "7 | Loss: 0.03423798084259033: 100%|██████████| 313/313 [02:42<00:00,  1.93it/s]\n",
            "8 | Loss: 0.03064773976802826: 100%|██████████| 313/313 [02:42<00:00,  1.92it/s]\n",
            "9 | Loss: 0.0302360188215971: 100%|██████████| 313/313 [02:42<00:00,  1.93it/s]\n",
            "10 | Loss: 0.038120996206998825: 100%|██████████| 313/313 [02:41<00:00,  1.93it/s]\n"
          ]
        }
      ]
    },
    {
      "cell_type": "markdown",
      "source": [
        "#Generate"
      ],
      "metadata": {
        "id": "-TagHPg-qji6"
      }
    },
    {
      "cell_type": "code",
      "source": [
        "def fashion_encoder(name, num=1):\n",
        "  fashion_dict = {'t-shirt':0, 'pants': 1, 'sweater': 2, 'dress': 3, 'coat':4,\n",
        "                  'sandal': 5, 'shirt': 6, 'sneaker': 7, 'purse': 8, 'boot': 9}\n",
        "  idx = torch.as_tensor([fashion_dict[name] for _ in range(num)]).to(device)\n",
        "\n",
        "  encoder.eval()\n",
        "  with torch.no_grad():\n",
        "    embed = encoder(idx)\n",
        "  return embed"
      ],
      "metadata": {
        "id": "atTPlxlGk1iE"
      },
      "execution_count": null,
      "outputs": []
    },
    {
      "cell_type": "code",
      "source": [
        "model.eval()\n",
        "\n",
        "c = fashion_encoder('shirt',9)\n",
        "noise = torch.randn(size = (9,1,32,32)).to(device)\n",
        "\n",
        "with torch.no_grad():\n",
        "  imgs = model(noise, conditional_inputs = {'context': c})\n",
        "\n",
        "img_grid = torchvision.utils.make_grid(imgs, 3)\n",
        "img =  F.to_pil_image((img_grid +1) /2)\n",
        "img.resize((288, 288))"
      ],
      "metadata": {
        "colab": {
          "base_uri": "https://localhost:8080/",
          "height": 337,
          "referenced_widgets": [
            "9275904a1df14dc6a67f137631eaa41c",
            "0c9facaf7f4a4aa8af535716b451e72f",
            "a09bb06a38964d47a5c0611bff49f08a",
            "9236022686bc4580a463d93d1c286a45",
            "64d97019a51146aebf7af7fdff4846db",
            "804f770334634d62bcf0baaecc0d36b9",
            "4d6a2aefe3f54fcab1a39461c7ed9d02",
            "9f3b0ba0b7e64db29f5665ad91aed2d0",
            "0dcbd14f0b3145afb936291539c55e91",
            "51f8a27dcb15449c84b14600cb95bded",
            "a6559bf1ef224fb690fc83b38fdffb45"
          ]
        },
        "id": "KBSKdW9QsQgd",
        "outputId": "5545cb11-afc7-4c59-8e5c-450c2d74d6d3"
      },
      "execution_count": null,
      "outputs": [
        {
          "output_type": "display_data",
          "data": {
            "text/plain": [
              "  0%|          | 0/250 [00:00<?, ?it/s]"
            ],
            "application/vnd.jupyter.widget-view+json": {
              "version_major": 2,
              "version_minor": 0,
              "model_id": "9275904a1df14dc6a67f137631eaa41c"
            }
          },
          "metadata": {}
        },
        {
          "output_type": "execute_result",
          "data": {
            "text/plain": [
              "<PIL.Image.Image image mode=RGB size=288x288>"
            ],
            "image/png": "[encoded data removed]"
          },
          "metadata": {},
          "execution_count": null
        }
      ]
    }
  ]
}
